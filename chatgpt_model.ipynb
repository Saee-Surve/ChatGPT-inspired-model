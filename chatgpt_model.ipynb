{
  "nbformat": 4,
  "nbformat_minor": 0,
  "metadata": {
    "colab": {
      "provenance": []
    },
    "kernelspec": {
      "name": "python3",
      "display_name": "Python 3"
    },
    "language_info": {
      "name": "python"
    }
  },
  "cells": [
    {
      "cell_type": "code",
      "execution_count": null,
      "metadata": {
        "colab": {
          "base_uri": "https://localhost:8080/"
        },
        "id": "I_qzzlW7gcjh",
        "outputId": "23db1741-d9e0-43e7-8002-1a943d3dbc8b"
      },
      "outputs": [
        {
          "output_type": "stream",
          "name": "stdout",
          "text": [
            "Requirement already satisfied: openai in /usr/local/lib/python3.10/dist-packages (1.3.6)\n",
            "Requirement already satisfied: anyio<4,>=3.5.0 in /usr/local/lib/python3.10/dist-packages (from openai) (3.7.1)\n",
            "Requirement already satisfied: distro<2,>=1.7.0 in /usr/lib/python3/dist-packages (from openai) (1.7.0)\n",
            "Requirement already satisfied: httpx<1,>=0.23.0 in /usr/local/lib/python3.10/dist-packages (from openai) (0.25.2)\n",
            "Requirement already satisfied: pydantic<3,>=1.9.0 in /usr/local/lib/python3.10/dist-packages (from openai) (1.10.13)\n",
            "Requirement already satisfied: sniffio in /usr/local/lib/python3.10/dist-packages (from openai) (1.3.0)\n",
            "Requirement already satisfied: tqdm>4 in /usr/local/lib/python3.10/dist-packages (from openai) (4.66.1)\n",
            "Requirement already satisfied: typing-extensions<5,>=4.5 in /usr/local/lib/python3.10/dist-packages (from openai) (4.5.0)\n",
            "Requirement already satisfied: idna>=2.8 in /usr/local/lib/python3.10/dist-packages (from anyio<4,>=3.5.0->openai) (3.4)\n",
            "Requirement already satisfied: exceptiongroup in /usr/local/lib/python3.10/dist-packages (from anyio<4,>=3.5.0->openai) (1.1.3)\n",
            "Requirement already satisfied: certifi in /usr/local/lib/python3.10/dist-packages (from httpx<1,>=0.23.0->openai) (2023.7.22)\n",
            "Requirement already satisfied: httpcore==1.* in /usr/local/lib/python3.10/dist-packages (from httpx<1,>=0.23.0->openai) (1.0.2)\n",
            "Requirement already satisfied: h11<0.15,>=0.13 in /usr/local/lib/python3.10/dist-packages (from httpcore==1.*->httpx<1,>=0.23.0->openai) (0.14.0)\n"
          ]
        }
      ],
      "source": [
        "\n",
        "!pip install openai"
      ]
    },
    {
      "cell_type": "code",
      "source": [
        "from openai import OpenAI\n",
        "client = OpenAI(\n",
        "    api_key= \"api-key\"\n",
        ")"
      ],
      "metadata": {
        "id": "nhgVsLpxv6tK"
      },
      "execution_count": null,
      "outputs": []
    },
    {
      "cell_type": "code",
      "source": [
        "def openAiCall(message):\n",
        "    response = client.chat.completions.create(\n",
        "    model=\"gpt-3.5-turbo\",\n",
        "\n",
        "    messages=[\n",
        "        {\n",
        "          \"role\": \"user\",\n",
        "          \"content\": \"{}\".format(message)\n",
        "        }\n",
        "      ],\n",
        ")\n",
        "    output = response.choices[0].message.content\n",
        "    print(output)"
      ],
      "metadata": {
        "id": "dFZTrKSP4awo"
      },
      "execution_count": null,
      "outputs": []
    },
    {
      "cell_type": "code",
      "source": [
        "openAiCall(\"give me information on global warming\")"
      ],
      "metadata": {
        "colab": {
          "base_uri": "https://localhost:8080/"
        },
        "id": "4I_LAiNNwTRW",
        "outputId": "7244bd06-daea-40c7-eebf-a6ceb8d70e5b"
      },
      "execution_count": null,
      "outputs": [
        {
          "output_type": "stream",
          "name": "stdout",
          "text": [
            "Global warming refers to the long-term increase in Earth's average surface temperature as a result of human activities, mainly the burning of fossil fuels like coal, oil, and natural gas. It is a consequence of the greenhouse effect, in which certain gases in the Earth's atmosphere trap heat from the sun and prevent it from escaping back into space. The primary greenhouse gas responsible for global warming is carbon dioxide (CO2), but others like methane (CH4) and nitrous oxide (N2O) also contribute.\n",
            "\n",
            "Here are some key points about global warming:\n",
            "\n",
            "1. Evidence: Scientific studies overwhelmingly support the consensus that global warming is happening and is primarily driven by human activities. Temperature records, melting glaciers, rising sea levels, and changes in precipitation patterns are some of the observed impacts of global warming.\n",
            "\n",
            "2. Causes: Human activities are the primary contributors to global warming. The burning of fossil fuels for electricity, transportation, and industrial processes releases large amounts of CO2 into the atmosphere. Deforestation and land-use changes also contribute by reducing the Earth's ability to absorb CO2.\n",
            "\n",
            "3. Effects: Global warming has various consequences for the Earth's climate system and ecosystems. Rising temperatures lead to more frequent and intense heatwaves, droughts, and wildfires. Changes in precipitation patterns can cause more intense rainfall events, leading to floods and water scarcity in some regions. Rising sea levels threaten coastal communities and ecosystems. Additionally, global warming can result in the loss of biodiversity and negatively impact agriculture and food production.\n",
            "\n",
            "4. Mitigation: To address global warming, efforts are focused on reducing greenhouse gas emissions and transitioning to cleaner, renewable energy sources like solar and wind power. International agreements like the Paris Agreement aim to limit global warming to well below 2°C compared to pre-industrial levels and pursue efforts to limit the temperature increase to 1.5°C.\n",
            "\n",
            "5. Adaptation: As global warming is already occurring, adaptation measures are also necessary to cope with its impacts. This involves strategies like building sea walls, implementing water conservation measures, developing drought-resistant crops, and improving early warning systems for extreme weather events.\n",
            "\n",
            "It's important to note that the topic of global warming is complex and continuously evolving as new research emerges. The insights provided here are a general overview, but further exploration and understanding of the topic are encouraged.\n"
          ]
        }
      ]
    },
    {
      "cell_type": "code",
      "source": [
        "openAiCall(\"Explain global warming and its primary causes in simple terms\")"
      ],
      "metadata": {
        "id": "YMeI7vSEF0fL"
      },
      "execution_count": null,
      "outputs": []
    },
    {
      "cell_type": "code",
      "source": [
        "openAiCall(\"What is the difference between global warming and climate change?\")"
      ],
      "metadata": {
        "id": "yFx2jTBOF55_"
      },
      "execution_count": null,
      "outputs": []
    },
    {
      "cell_type": "code",
      "source": [
        "openAiCall(\"How has the Earth's average temperature changed over the past century?\")"
      ],
      "metadata": {
        "id": "27EiIri0GAmJ"
      },
      "execution_count": null,
      "outputs": []
    }
  ]
}